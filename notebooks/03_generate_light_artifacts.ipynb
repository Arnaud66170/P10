{
 "cells": [
  {
   "cell_type": "code",
   "execution_count": 1,
   "id": "867a8f63",
   "metadata": {},
   "outputs": [
    {
     "name": "stdout",
     "output_type": "stream",
     "text": [
      "Chemins configurés :\n",
      "- outputs/ = c:\\Users\\motar\\Desktop\\1-openclassrooms\\AI_Engineer\\1-projets\\P10\\2-python\\outputs\n",
      "- models/ = c:\\Users\\motar\\Desktop\\1-openclassrooms\\AI_Engineer\\1-projets\\P10\\2-python\\models\n"
     ]
    }
   ],
   "source": [
    "import os\n",
    "import json\n",
    "from pathlib import Path\n",
    "import pandas as pd\n",
    "import numpy as np\n",
    "from surprise import Dataset, Reader, SVD, dump\n",
    "from surprise.model_selection import train_test_split\n",
    "\n",
    "# Détermine dynamiquement le chemin racine du projet\n",
    "notebook_dir = os.path.dirname(os.path.abspath(\"__file__\"))\n",
    "project_root = os.path.abspath(os.path.join(notebook_dir, \"..\"))  # remonte depuis notebooks/\n",
    "\n",
    "# Définition des chemins des dossiers racine\n",
    "outputs_dir = Path(project_root) / \"outputs\"\n",
    "models_dir = Path(project_root) / \"models\"\n",
    "\n",
    "print(f\"Chemins configurés :\\n- outputs/ = {outputs_dir}\\n- models/ = {models_dir}\")"
   ]
  },
  {
   "cell_type": "markdown",
   "id": "4e794700",
   "metadata": {},
   "source": [
    "# 1 - CONFIGURATION DE L'ÉCHANTILLONNAGE INTELLIGENT"
   ]
  },
  {
   "cell_type": "code",
   "execution_count": 2,
   "id": "ac0cc84f",
   "metadata": {},
   "outputs": [
    {
     "name": "stdout",
     "output_type": "stream",
     "text": [
      "PARAMÈTRES D'ÉCHANTILLONNAGE INTELLIGENT\n",
      "   - Minimum 4 clics par utilisateur\n",
      "   - Objectif 1500 utilisateurs\n",
      "   - Objectif 5000 lignes totales\n"
     ]
    }
   ],
   "source": [
    "MIN_CLICKS_PER_USER = 4     # Minimum de clics par utilisateur\n",
    "TARGET_USERS = 1500         # Nombre d'utilisateurs à conserver\n",
    "TARGET_TOTAL_LINES = 5000   # Nombre total de lignes cible\n",
    "RANDOM_STATE = 70           # Pour reproductibilité\n",
    "\n",
    "print(f\"PARAMÈTRES D'ÉCHANTILLONNAGE INTELLIGENT\")\n",
    "print(f\"   - Minimum {MIN_CLICKS_PER_USER} clics par utilisateur\")\n",
    "print(f\"   - Objectif {TARGET_USERS} utilisateurs\")\n",
    "print(f\"   - Objectif {TARGET_TOTAL_LINES} lignes totales\")"
   ]
  },
  {
   "cell_type": "markdown",
   "id": "2405d678",
   "metadata": {},
   "source": [
    "# 2 - Définition des chemins des fichiers d'entrée\n",
    "## 2.1 - complets"
   ]
  },
  {
   "cell_type": "code",
   "execution_count": 3,
   "id": "6356cf28",
   "metadata": {},
   "outputs": [],
   "source": [
    "df_path = outputs_dir / \"df.parquet\"\n",
    "df_articles_path = outputs_dir / \"df_articles.parquet\""
   ]
  },
  {
   "cell_type": "markdown",
   "id": "b0a0c34e",
   "metadata": {},
   "source": [
    "## 2.2 - réduits"
   ]
  },
  {
   "cell_type": "code",
   "execution_count": 4,
   "id": "149f9e74",
   "metadata": {},
   "outputs": [],
   "source": [
    "df_light_path = outputs_dir / \"df_light.parquet\"\n",
    "df_articles_light_path = outputs_dir / \"df_articles_light.parquet\""
   ]
  },
  {
   "cell_type": "markdown",
   "id": "a5288dfd",
   "metadata": {},
   "source": [
    "## 2.3 -  Chemin vers le modèle CF allégé"
   ]
  },
  {
   "cell_type": "code",
   "execution_count": 5,
   "id": "933700c1",
   "metadata": {},
   "outputs": [],
   "source": [
    "model_cf_light_path = models_dir / \"model_cf_light.pkl\""
   ]
  },
  {
   "cell_type": "markdown",
   "id": "fbe40793",
   "metadata": {},
   "source": [
    "## 2.4 - Chemin vers le fichier user_ids valides"
   ]
  },
  {
   "cell_type": "code",
   "execution_count": 6,
   "id": "5b93db09",
   "metadata": {},
   "outputs": [],
   "source": [
    "user_ids_path = outputs_dir / \"user_ids_valid.json\""
   ]
  },
  {
   "cell_type": "markdown",
   "id": "1cc5b1d0",
   "metadata": {},
   "source": [
    "# 3 - Chargement des fichiers complets"
   ]
  },
  {
   "cell_type": "code",
   "execution_count": 7,
   "id": "93a8f785",
   "metadata": {},
   "outputs": [
    {
     "name": "stdout",
     "output_type": "stream",
     "text": [
      "Chargement des données complètes...\n",
      "   Dataset original : 2,988,181 lignes, 322,897 utilisateurs\n",
      "   Articles totaux : 364,047\n"
     ]
    }
   ],
   "source": [
    "print(f\"Chargement des données complètes...\")\n",
    "df = pd.read_parquet(df_path)\n",
    "df_articles = pd.read_parquet(df_articles_path)\n",
    "\n",
    "print(f\"   Dataset original : {len(df):,} lignes, {df['user_id'].nunique():,} utilisateurs\")\n",
    "print(f\"   Articles totaux : {len(df_articles):,}\")"
   ]
  },
  {
   "cell_type": "markdown",
   "id": "6823980c",
   "metadata": {},
   "source": [
    "# 4 - ANALYSE DE LA DISTRIBUTION DES CLICS"
   ]
  },
  {
   "cell_type": "code",
   "execution_count": 8,
   "id": "39e48796",
   "metadata": {},
   "outputs": [
    {
     "name": "stdout",
     "output_type": "stream",
     "text": [
      "ANALYSE DE LA DISTRIBUTION DES CLICS\n",
      "   Utilisateurs totaux : 322,897\n",
      "   Clics par utilisateur - Médiane : 4.0\n",
      "   Clics par utilisateur - Moyenne : 9.3\n",
      "Distribution par nombre de clics (top 15) :\n",
      "    2 clics : 101428 utilisateurs ( 31.4%)\n",
      "    3 clics : 22660 utilisateurs (  7.0%)\n",
      "    4 clics : 38432 utilisateurs ( 11.9%)\n",
      "    5 clics : 18070 utilisateurs (  5.6%)\n",
      "    6 clics : 20370 utilisateurs (  6.3%)\n",
      "    7 clics : 13358 utilisateurs (  4.1%)\n",
      "    8 clics : 12780 utilisateurs (  4.0%)\n",
      "    9 clics :  9701 utilisateurs (  3.0%)\n",
      "   10 clics :  8807 utilisateurs (  2.7%)\n",
      "   11 clics :  7143 utilisateurs (  2.2%)\n",
      "   12 clics :  6485 utilisateurs (  2.0%)\n",
      "   13 clics :  5500 utilisateurs (  1.7%)\n",
      "   14 clics :  4990 utilisateurs (  1.5%)\n",
      "   15 clics :  4284 utilisateurs (  1.3%)\n",
      "   16 clics :  3787 utilisateurs (  1.2%)\n"
     ]
    }
   ],
   "source": [
    "print(f\"ANALYSE DE LA DISTRIBUTION DES CLICS\")\n",
    "user_clicks = df.groupby('user_id').size().reset_index()\n",
    "user_clicks.columns = ['user_id', 'nb_clicks']\n",
    "\n",
    "print(f\"   Utilisateurs totaux : {len(user_clicks):,}\")\n",
    "print(f\"   Clics par utilisateur - Médiane : {user_clicks['nb_clicks'].median():.1f}\")\n",
    "print(f\"   Clics par utilisateur - Moyenne : {user_clicks['nb_clicks'].mean():.1f}\")\n",
    "\n",
    "print(f\"Distribution par nombre de clics (top 15) :\")\n",
    "distribution = user_clicks['nb_clicks'].value_counts().sort_index().head(15)\n",
    "for nb_clicks, count in distribution.items():\n",
    "    percentage = (count / len(user_clicks)) * 100\n",
    "    print(f\"   {nb_clicks:2d} clics : {count:5d} utilisateurs ({percentage:5.1f}%)\")"
   ]
  },
  {
   "cell_type": "markdown",
   "id": "d16ea95f",
   "metadata": {},
   "source": [
    "# 5 - SÉLECTION INTELLIGENTE DES UTILISATEURS"
   ]
  },
  {
   "cell_type": "code",
   "execution_count": 9,
   "id": "3659b5f7",
   "metadata": {},
   "outputs": [
    {
     "name": "stdout",
     "output_type": "stream",
     "text": [
      "SÉLECTION INTELLIGENTE (min 4 clics)\n",
      "   Utilisateurs avec ≥4 clics : 198,809\n"
     ]
    }
   ],
   "source": [
    "print(f\"SÉLECTION INTELLIGENTE (min {MIN_CLICKS_PER_USER} clics)\")\n",
    "users_enough_clicks = user_clicks[user_clicks['nb_clicks'] >= MIN_CLICKS_PER_USER]\n",
    "print(f\"   Utilisateurs avec ≥{MIN_CLICKS_PER_USER} clics : {len(users_enough_clicks):,}\")"
   ]
  },
  {
   "cell_type": "markdown",
   "id": "96cadc25",
   "metadata": {},
   "source": [
    "## 5.1 - Ajustement du seuil si nécessaire"
   ]
  },
  {
   "cell_type": "code",
   "execution_count": 10,
   "id": "27584813",
   "metadata": {},
   "outputs": [],
   "source": [
    "if len(users_enough_clicks) < TARGET_USERS:\n",
    "    print(f\"Pas assez d'utilisateurs avec ≥{MIN_CLICKS_PER_USER} clics\")\n",
    "    MIN_CLICKS_PER_USER = max(1, MIN_CLICKS_PER_USER - 1)\n",
    "    print(f\"   Réduction du seuil à {MIN_CLICKS_PER_USER} clics\")\n",
    "    users_enough_clicks = user_clicks[user_clicks['nb_clicks'] >= MIN_CLICKS_PER_USER]"
   ]
  },
  {
   "cell_type": "markdown",
   "id": "f3be9b72",
   "metadata": {},
   "source": [
    "# 6 - ÉCHANTILLONNAGE STRATIFIÉ"
   ]
  },
  {
   "cell_type": "code",
   "execution_count": 11,
   "id": "37f3e7d4",
   "metadata": {},
   "outputs": [
    {
     "name": "stdout",
     "output_type": "stream",
     "text": [
      "ÉCHANTILLONNAGE STRATIFIÉ\n"
     ]
    }
   ],
   "source": [
    "print(f\"ÉCHANTILLONNAGE STRATIFIÉ\")"
   ]
  },
  {
   "cell_type": "markdown",
   "id": "d8e60c3c",
   "metadata": {},
   "source": [
    "## 6.1 - Créer des strates par nombre de clics"
   ]
  },
  {
   "cell_type": "code",
   "execution_count": 12,
   "id": "886fb102",
   "metadata": {},
   "outputs": [
    {
     "name": "stdout",
     "output_type": "stream",
     "text": [
      "   Répartition par strates :\n",
      "   6-10 clics : 65,016 utilisateurs\n",
      "   4-5 clics : 56,502 utilisateurs\n",
      "   11-20 clics : 43,999 utilisateurs\n",
      "   21-50 clics : 26,927 utilisateurs\n",
      "   50+ clics : 6,365 utilisateurs\n"
     ]
    },
    {
     "name": "stderr",
     "output_type": "stream",
     "text": [
      "C:\\Users\\motar\\AppData\\Local\\Temp\\ipykernel_39704\\2462343955.py:1: SettingWithCopyWarning: \n",
      "A value is trying to be set on a copy of a slice from a DataFrame.\n",
      "Try using .loc[row_indexer,col_indexer] = value instead\n",
      "\n",
      "See the caveats in the documentation: https://pandas.pydata.org/pandas-docs/stable/user_guide/indexing.html#returning-a-view-versus-a-copy\n",
      "  users_enough_clicks['strate'] = pd.cut(\n"
     ]
    }
   ],
   "source": [
    "users_enough_clicks['strate'] = pd.cut(\n",
    "    users_enough_clicks['nb_clicks'], \n",
    "    bins=[MIN_CLICKS_PER_USER-1, 5, 10, 20, 50, float('inf')], \n",
    "    labels=[f'{MIN_CLICKS_PER_USER}-5 clics', '6-10 clics', '11-20 clics', '21-50 clics', '50+ clics'],\n",
    "    include_lowest=True\n",
    ")\n",
    "\n",
    "print(\"   Répartition par strates :\")\n",
    "strate_counts = users_enough_clicks['strate'].value_counts()\n",
    "for strate, count in strate_counts.items():\n",
    "    print(f\"   {strate} : {count:,} utilisateurs\")"
   ]
  },
  {
   "cell_type": "markdown",
   "id": "13600347",
   "metadata": {},
   "source": [
    "## 6.2 - Échantillonnage proportionnel par strate"
   ]
  },
  {
   "cell_type": "code",
   "execution_count": 13,
   "id": "44eed55a",
   "metadata": {},
   "outputs": [
    {
     "name": "stdout",
     "output_type": "stream",
     "text": [
      "   4-5 clics : 426 utilisateurs sélectionnés\n",
      "   6-10 clics : 351 utilisateurs sélectionnés\n",
      "   11-20 clics : 160 utilisateurs sélectionnés\n",
      "   21-50 clics : 76 utilisateurs sélectionnés\n",
      "   50+ clics : 15 utilisateurs sélectionnés\n"
     ]
    }
   ],
   "source": [
    "selected_users = []\n",
    "remaining_target = min(TARGET_USERS, len(users_enough_clicks))\n",
    "\n",
    "for strate in users_enough_clicks['strate'].cat.categories:\n",
    "    strate_users = users_enough_clicks[users_enough_clicks['strate'] == strate]\n",
    "    if len(strate_users) == 0:\n",
    "        continue\n",
    "        \n",
    "    # Proportion de cette strate\n",
    "    proportion = len(strate_users) / len(users_enough_clicks)\n",
    "    target_for_strate = min(int(remaining_target * proportion), len(strate_users))\n",
    "    \n",
    "    if target_for_strate > 0:\n",
    "        sampled = strate_users.sample(n=target_for_strate, random_state=RANDOM_STATE)\n",
    "        selected_users.append(sampled)\n",
    "        remaining_target -= target_for_strate\n",
    "        print(f\"   {strate} : {target_for_strate:,} utilisateurs sélectionnés\")"
   ]
  },
  {
   "cell_type": "markdown",
   "id": "73a77415",
   "metadata": {},
   "source": [
    "## 6.3 - Combiner tous les utilisateurs sélectionnés"
   ]
  },
  {
   "cell_type": "code",
   "execution_count": 14,
   "id": "ce7660cf",
   "metadata": {},
   "outputs": [
    {
     "name": "stdout",
     "output_type": "stream",
     "text": [
      "Utilisateurs finalement sélectionnés : 1,028\n"
     ]
    }
   ],
   "source": [
    "selected_users_df = pd.concat(selected_users, ignore_index=True)\n",
    "selected_user_ids = selected_users_df['user_id'].tolist()\n",
    "\n",
    "print(f\"Utilisateurs finalement sélectionnés : {len(selected_user_ids):,}\")"
   ]
  },
  {
   "cell_type": "markdown",
   "id": "0f7b9e6d",
   "metadata": {},
   "source": [
    "### Répartition des strates d’utilisateurs (avant vs après échantillonnage)\n",
    "Comparaison de la répartition des utilisateurs par strate de clics avant et après échantillonnage, pour vérifier la représentativité conservée."
   ]
  },
  {
   "cell_type": "code",
   "execution_count": 32,
   "id": "144bd64b",
   "metadata": {},
   "outputs": [
    {
     "data": {
      "image/png": "[encoded data removed]",
      "text/plain": [
       "<Figure size 1000x600 with 1 Axes>"
      ]
     },
     "metadata": {},
     "output_type": "display_data"
    }
   ],
   "source": [
    "import matplotlib.pyplot as plt\n",
    "\n",
    "# Répartition des strates (avant vs après)\n",
    "plt.figure(figsize=(10, 6))\n",
    "\n",
    "users_enough_clicks['strate'].value_counts().sort_index().plot(\n",
    "    kind=\"bar\", alpha=0.6, label=\"Avant\", width=0.4, position=1\n",
    ")\n",
    "\n",
    "selected_users_df['strate'].value_counts().sort_index().plot(\n",
    "    kind=\"bar\", alpha=0.8, label=\"Après\", width=0.4, position=0\n",
    ")\n",
    "\n",
    "plt.title(\"Répartition des strates d'utilisateurs (avant vs après échantillonnage)\")\n",
    "plt.xlabel(\"Strate d’activité (nombre de clics)\")\n",
    "plt.ylabel(\"Nombre d’utilisateurs\")\n",
    "plt.legend()\n",
    "plt.tight_layout()\n",
    "plt.show()\n"
   ]
  },
  {
   "cell_type": "markdown",
   "id": "dea243e0",
   "metadata": {},
   "source": [
    "# 7 - CRÉATION DU DF_LIGHT INTELLIGENT"
   ]
  },
  {
   "cell_type": "code",
   "execution_count": 15,
   "id": "b7161e37",
   "metadata": {},
   "outputs": [
    {
     "name": "stdout",
     "output_type": "stream",
     "text": [
      "CRÉATION DU DF_LIGHT OPTIMISÉ\n",
      "   Lignes dans df_light : 10,342\n",
      "   Utilisateurs dans df_light : 1,028\n",
      "   Articles uniques : 2,498\n"
     ]
    }
   ],
   "source": [
    "print(f\"CRÉATION DU DF_LIGHT OPTIMISÉ\")\n",
    "df_light = df[df['user_id'].isin(selected_user_ids)].copy()\n",
    "\n",
    "print(f\"   Lignes dans df_light : {len(df_light):,}\")\n",
    "print(f\"   Utilisateurs dans df_light : {df_light['user_id'].nunique():,}\")\n",
    "print(f\"   Articles uniques : {df_light['article_id'].nunique():,}\")"
   ]
  },
  {
   "cell_type": "markdown",
   "id": "e3dff515",
   "metadata": {},
   "source": [
    "## 7.1 - Vérification de la nouvelle distribution"
   ]
  },
  {
   "cell_type": "code",
   "execution_count": 16,
   "id": "a332938c",
   "metadata": {},
   "outputs": [
    {
     "name": "stdout",
     "output_type": "stream",
     "text": [
      "NOUVELLE DISTRIBUTION APRÈS ÉCHANTILLONNAGE\n",
      "   Clics par utilisateur - Médiane : 6.0\n",
      "   Clics par utilisateur - Moyenne : 10.1\n",
      "   Min clics : 4\n",
      "   Max clics : 148\n"
     ]
    }
   ],
   "source": [
    "new_user_clicks = df_light.groupby('user_id').size()\n",
    "print(f\"NOUVELLE DISTRIBUTION APRÈS ÉCHANTILLONNAGE\")\n",
    "print(f\"   Clics par utilisateur - Médiane : {new_user_clicks.median():.1f}\")\n",
    "print(f\"   Clics par utilisateur - Moyenne : {new_user_clicks.mean():.1f}\")\n",
    "print(f\"   Min clics : {new_user_clicks.min()}\")\n",
    "print(f\"   Max clics : {new_user_clicks.max()}\")"
   ]
  },
  {
   "cell_type": "code",
   "execution_count": 17,
   "id": "eb0e9f9e",
   "metadata": {},
   "outputs": [
    {
     "name": "stdout",
     "output_type": "stream",
     "text": [
      "Distribution finale des clics par utilisateur (top 15) :\n",
      "    4 clics :  275 utilisateurs ( 26.8%)\n",
      "    5 clics :  151 utilisateurs ( 14.7%)\n",
      "    6 clics :  124 utilisateurs ( 12.1%)\n",
      "    7 clics :   61 utilisateurs (  5.9%)\n",
      "    8 clics :   70 utilisateurs (  6.8%)\n",
      "    9 clics :   49 utilisateurs (  4.8%)\n",
      "   10 clics :   47 utilisateurs (  4.6%)\n",
      "   11 clics :   23 utilisateurs (  2.2%)\n",
      "   12 clics :   26 utilisateurs (  2.5%)\n",
      "   13 clics :   22 utilisateurs (  2.1%)\n",
      "   14 clics :   20 utilisateurs (  1.9%)\n",
      "   15 clics :   16 utilisateurs (  1.6%)\n",
      "   16 clics :   14 utilisateurs (  1.4%)\n",
      "   17 clics :    8 utilisateurs (  0.8%)\n",
      "   18 clics :    5 utilisateurs (  0.5%)\n"
     ]
    }
   ],
   "source": [
    "print(f\"Distribution finale des clics par utilisateur (top 15) :\")\n",
    "final_distribution = new_user_clicks.value_counts().sort_index().head(15)\n",
    "for nb_clicks, count in final_distribution.items():\n",
    "    percentage = (count / len(new_user_clicks)) * 100\n",
    "    print(f\"   {nb_clicks:2d} clics : {count:4d} utilisateurs ({percentage:5.1f}%)\")\n"
   ]
  },
  {
   "cell_type": "markdown",
   "id": "ad0df96e",
   "metadata": {},
   "source": [
    "# 8 - GESTION DES ARTICLES"
   ]
  },
  {
   "cell_type": "code",
   "execution_count": 18,
   "id": "92919d2b",
   "metadata": {},
   "outputs": [
    {
     "name": "stdout",
     "output_type": "stream",
     "text": [
      "GESTION DES ARTICLES\n",
      "Articles cliqués dans df_light : 2,498\n"
     ]
    }
   ],
   "source": [
    "print(f\"GESTION DES ARTICLES\")\n",
    "article_ids_in_df_light = df_light[\"article_id\"].unique()\n",
    "print(f\"Articles cliqués dans df_light : {len(article_ids_in_df_light):,}\")"
   ]
  },
  {
   "cell_type": "markdown",
   "id": "0e2f7650",
   "metadata": {},
   "source": [
    "## 8.1 - Conservation des articles cliqués + complément aléatoire"
   ]
  },
  {
   "cell_type": "code",
   "execution_count": 19,
   "id": "a17d1ce3",
   "metadata": {},
   "outputs": [
    {
     "name": "stdout",
     "output_type": "stream",
     "text": [
      "Articles avec métadonnées : 2,498\n"
     ]
    }
   ],
   "source": [
    "df_articles_clicked = df_articles[df_articles[\"article_id\"].isin(article_ids_in_df_light)]\n",
    "print(f\"Articles avec métadonnées : {len(df_articles_clicked):,}\")"
   ]
  },
  {
   "cell_type": "code",
   "execution_count": 20,
   "id": "87f60703",
   "metadata": {},
   "outputs": [
    {
     "name": "stdout",
     "output_type": "stream",
     "text": [
      "   Total articles dans df_articles_light : 2,498\n"
     ]
    }
   ],
   "source": [
    "nb_to_add = 2000 - len(df_articles_clicked)\n",
    "if nb_to_add > 0:\n",
    "    df_articles_rest = df_articles[~df_articles[\"article_id\"].isin(article_ids_in_df_light)]\n",
    "    if len(df_articles_rest) >= nb_to_add:\n",
    "        df_articles_extra = df_articles_rest.sample(n=nb_to_add, random_state=RANDOM_STATE)\n",
    "        df_articles_light = pd.concat([df_articles_clicked, df_articles_extra])\n",
    "        print(f\"   Ajout de {nb_to_add:,} articles complémentaires\")\n",
    "    else:\n",
    "        df_articles_light = pd.concat([df_articles_clicked, df_articles_rest])\n",
    "        print(f\"   Ajout de tous les articles restants : {len(df_articles_rest):,}\")\n",
    "else:\n",
    "    df_articles_light = df_articles_clicked\n",
    "\n",
    "print(f\"   Total articles dans df_articles_light : {len(df_articles_light):,}\")"
   ]
  },
  {
   "cell_type": "markdown",
   "id": "93d47e39",
   "metadata": {},
   "source": [
    "# 9 - SAUVEGARDE DES FICHIERS OPTIMISÉS"
   ]
  },
  {
   "cell_type": "code",
   "execution_count": 21,
   "id": "3d3a72b4",
   "metadata": {},
   "outputs": [
    {
     "name": "stdout",
     "output_type": "stream",
     "text": [
      "SAUVEGARDE DES FICHIERS\n",
      "c:\\Users\\motar\\Desktop\\1-openclassrooms\\AI_Engineer\\1-projets\\P10\\2-python\\outputs\\df_light.parquet\n",
      "c:\\Users\\motar\\Desktop\\1-openclassrooms\\AI_Engineer\\1-projets\\P10\\2-python\\outputs\\df_articles_light.parquet\n"
     ]
    }
   ],
   "source": [
    "print(f\"SAUVEGARDE DES FICHIERS\")\n",
    "df_light.to_parquet(df_light_path, index=False)\n",
    "df_articles_light.to_parquet(df_articles_light_path, index=False)\n",
    "print(f\"{df_light_path}\")\n",
    "print(f\"{df_articles_light_path}\")"
   ]
  },
  {
   "cell_type": "markdown",
   "id": "1f6fa6c5",
   "metadata": {},
   "source": [
    "# 10 - GÉNÉRATION DU FICHIER USER_IDS_VALID.JSON"
   ]
  },
  {
   "cell_type": "code",
   "execution_count": 22,
   "id": "715cb656",
   "metadata": {},
   "outputs": [
    {
     "name": "stdout",
     "output_type": "stream",
     "text": [
      "c:\\Users\\motar\\Desktop\\1-openclassrooms\\AI_Engineer\\1-projets\\P10\\2-python\\outputs\\user_ids_valid.json - 1,028 utilisateurs\n"
     ]
    }
   ],
   "source": [
    "valid_user_ids = sorted(df_light['user_id'].unique().tolist())\n",
    "with open(user_ids_path, 'w', encoding='utf-8') as f:\n",
    "    json.dump(valid_user_ids, f, indent=2)\n",
    "print(f\"{user_ids_path} - {len(valid_user_ids):,} utilisateurs\")"
   ]
  },
  {
   "cell_type": "markdown",
   "id": "c0d98001",
   "metadata": {},
   "source": [
    "# 11 - PRÉPARATION POUR SURPRISE ET ENTRAÎNEMENT \n",
    "- Le DataFrame df_light doit contenir : user_id, article_id, click (implicite)\n",
    "- Création d'une colonne de rating implicite = 1 (car clic = interaction)"
   ]
  },
  {
   "cell_type": "code",
   "execution_count": 23,
   "id": "202c0abc",
   "metadata": {},
   "outputs": [
    {
     "name": "stdout",
     "output_type": "stream",
     "text": [
      "ENTRAÎNEMENT DU MODÈLE CF\n"
     ]
    }
   ],
   "source": [
    "print(f\"ENTRAÎNEMENT DU MODÈLE CF\")\n",
    "df_light[\"click\"] = 1"
   ]
  },
  {
   "cell_type": "markdown",
   "id": "63763694",
   "metadata": {},
   "source": [
    "## 11.1 - Création du reader Surprise"
   ]
  },
  {
   "cell_type": "code",
   "execution_count": 24,
   "id": "95e45f0c",
   "metadata": {},
   "outputs": [],
   "source": [
    "reader = Reader(rating_scale=(0, 1))\n",
    "data = Dataset.load_from_df(df_light[[\"user_id\", \"article_id\", \"click\"]], reader)"
   ]
  },
  {
   "cell_type": "markdown",
   "id": "c4a2f54d",
   "metadata": {},
   "source": [
    "## 11.2 - Split train/test (utile même pour entraînement simple → cohérence API)"
   ]
  },
  {
   "cell_type": "code",
   "execution_count": 25,
   "id": "f2140a7b",
   "metadata": {},
   "outputs": [],
   "source": [
    "trainset, _ = train_test_split(data, test_size=0.2, random_state=RANDOM_STATE)"
   ]
  },
  {
   "cell_type": "markdown",
   "id": "d7a6b223",
   "metadata": {},
   "source": [
    "## 11.3 - Entraînement du modèle CF (SVD)"
   ]
  },
  {
   "cell_type": "code",
   "execution_count": 26,
   "id": "eb9cdfa2",
   "metadata": {},
   "outputs": [
    {
     "data": {
      "text/plain": [
       "<surprise.prediction_algorithms.matrix_factorization.SVD at 0x240dafb7c70>"
      ]
     },
     "execution_count": 26,
     "metadata": {},
     "output_type": "execute_result"
    }
   ],
   "source": [
    "model = SVD(n_factors=20, random_state=RANDOM_STATE)\n",
    "model.fit(trainset)"
   ]
  },
  {
   "cell_type": "markdown",
   "id": "a46528a6",
   "metadata": {},
   "source": [
    "## 11.4 - Sauvegarde du modèle entraîné (version allégée)"
   ]
  },
  {
   "cell_type": "code",
   "execution_count": 27,
   "id": "7c0310f4",
   "metadata": {},
   "outputs": [
    {
     "name": "stdout",
     "output_type": "stream",
     "text": [
      "Modèle CF sauvegardé : c:\\Users\\motar\\Desktop\\1-openclassrooms\\AI_Engineer\\1-projets\\P10\\2-python\\models\\model_cf_light.pkl\n"
     ]
    }
   ],
   "source": [
    "dump.dump(model_cf_light_path, predictions=None, algo=model)\n",
    "print(f\"Modèle CF sauvegardé : {model_cf_light_path}\")"
   ]
  },
  {
   "cell_type": "markdown",
   "id": "bf36bc89",
   "metadata": {},
   "source": [
    "## 12 - RAPPORT FINAL"
   ]
  },
  {
   "cell_type": "code",
   "execution_count": 28,
   "id": "eb58b630",
   "metadata": {},
   "outputs": [
    {
     "name": "stdout",
     "output_type": "stream",
     "text": [
      "RAPPORT FINAL\n",
      "   Dataset original : 2,988,181 lignes, 322,897 utilisateurs\n",
      "   Dataset optimisé : 10,342 lignes, 1,028 utilisateurs\n",
      "   Réduction : 0.3% des lignes conservées\n",
      "   Clics minimum par utilisateur : 4\n",
      "   Clics maximum par utilisateur : 148\n",
      "   Articles avec métadonnées : 2,498\n",
      "\n",
      "✅ TERMINÉ !\n",
      "   📁 df_light.parquet : 10,342 lignes avec utilisateurs actifs\n",
      "   📁 df_articles_light.parquet : 2,498 articles\n",
      "   📁 model_cf_light.pkl : modèle entraîné sur données qualitatives\n",
      "   📁 user_ids_valid.json : 1,028 utilisateurs valides\n"
     ]
    }
   ],
   "source": [
    "print(f\"RAPPORT FINAL\")\n",
    "print(f\"   Dataset original : {len(df):,} lignes, {df['user_id'].nunique():,} utilisateurs\")\n",
    "print(f\"   Dataset optimisé : {len(df_light):,} lignes, {df_light['user_id'].nunique():,} utilisateurs\")\n",
    "print(f\"   Réduction : {len(df_light)/len(df)*100:.1f}% des lignes conservées\")\n",
    "print(f\"   Clics minimum par utilisateur : {new_user_clicks.min()}\")\n",
    "print(f\"   Clics maximum par utilisateur : {new_user_clicks.max()}\")\n",
    "print(f\"   Articles avec métadonnées : {len(df_articles_light):,}\")\n",
    "\n",
    "print(f\"\\n✅ TERMINÉ !\")\n",
    "print(f\"   📁 df_light.parquet : {len(df_light):,} lignes avec utilisateurs actifs\")\n",
    "print(f\"   📁 df_articles_light.parquet : {len(df_articles_light):,} articles\")\n",
    "print(f\"   📁 model_cf_light.pkl : modèle entraîné sur données qualitatives\")\n",
    "print(f\"   📁 user_ids_valid.json : {len(valid_user_ids):,} utilisateurs valides\")"
   ]
  },
  {
   "cell_type": "markdown",
   "id": "8d637dab",
   "metadata": {},
   "source": [
    "### Réduction du dataset\n",
    "Illustration de la compression du jeu de données d’origine vers la version allégée `df_light`."
   ]
  },
  {
   "cell_type": "code",
   "execution_count": 33,
   "id": "df0442ed",
   "metadata": {},
   "outputs": [
    {
     "data": {
      "image/png": "[encoded data removed]",
      "text/plain": [
       "<Figure size 500x400 with 1 Axes>"
      ]
     },
     "metadata": {},
     "output_type": "display_data"
    }
   ],
   "source": [
    "plt.figure(figsize=(5, 4))\n",
    "plt.bar([\"Dataset original\", \"df_light\"], [len(df), len(df_light)], color=[\"gray\", \"teal\"])\n",
    "plt.title(\"Réduction du nombre de lignes\")\n",
    "plt.ylabel(\"Nombre de lignes\")\n",
    "plt.tight_layout()\n",
    "plt.show()\n"
   ]
  },
  {
   "cell_type": "markdown",
   "id": "c074061d",
   "metadata": {},
   "source": [
    "# 13 - VÉRIFICATION RAPIDE"
   ]
  },
  {
   "cell_type": "code",
   "execution_count": 29,
   "id": "cd6be603",
   "metadata": {},
   "outputs": [
    {
     "name": "stdout",
     "output_type": "stream",
     "text": [
      "VÉRIFICATION\n",
      "   Utilisateurs dans le fichier final : 1,028\n",
      "   Clics min/max : 4/148\n",
      "   Exemples d'utilisateurs : [8, 96, 330, 397, 452]\n"
     ]
    }
   ],
   "source": [
    "print(f\"VÉRIFICATION\")\n",
    "test_df = pd.read_parquet(df_light_path)\n",
    "test_user_clicks = test_df.groupby('user_id').size()\n",
    "print(f\"   Utilisateurs dans le fichier final : {test_df['user_id'].nunique():,}\")\n",
    "print(f\"   Clics min/max : {test_user_clicks.min()}/{test_user_clicks.max()}\")\n",
    "print(f\"   Exemples d'utilisateurs : {test_df['user_id'].unique()[:5].tolist()}\")"
   ]
  },
  {
   "cell_type": "code",
   "execution_count": null,
   "id": "f6b71652",
   "metadata": {},
   "outputs": [],
   "source": []
  }
 ],
 "metadata": {
  "kernelspec": {
   "display_name": "venv_p10",
   "language": "python",
   "name": "python3"
  },
  "language_info": {
   "codemirror_mode": {
    "name": "ipython",
    "version": 3
   },
   "file_extension": ".py",
   "mimetype": "text/x-python",
   "name": "python",
   "nbconvert_exporter": "python",
   "pygments_lexer": "ipython3",
   "version": "3.10.11"
  }
 },
 "nbformat": 4,
 "nbformat_minor": 5
}
